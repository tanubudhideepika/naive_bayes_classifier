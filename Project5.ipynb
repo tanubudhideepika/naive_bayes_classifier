{
  "cells": [
    {
      "cell_type": "code",
      "execution_count": 1,
      "metadata": {
        "id": "ED9mltBKPxAG"
      },
      "outputs": [],
      "source": [
        "from sklearn.preprocessing import OneHotEncoder\n",
        "from sklearn.model_selection import train_test_split\n",
        "import nltk\n",
        "from nltk.corpus import names\n",
        "from nltk.metrics.scores import precision, recall\n",
        "from sklearn.metrics import precision_recall_fscore_support\n",
        "import pandas as pd\n",
        "from sklearn.naive_bayes import GaussianNB\n",
        "from sklearn.model_selection import StratifiedShuffleSplit\n",
        "from matplotlib import pyplot as plt\n",
        "import seaborn as sns"
      ]
    },
    {
      "cell_type": "markdown",
      "metadata": {
        "id": "3XDpe6FBPxAI"
      },
      "source": [
        "### Feature extractor"
      ]
    },
    {
      "cell_type": "code",
      "execution_count": 2,
      "metadata": {
        "id": "Y018Y71jPxAL"
      },
      "outputs": [],
      "source": [
        "def team_features(team):\n",
        "    info = {}\n",
        "    for i in range(1,17):\n",
        "        info[f\"seed: {i}\"] = False\n",
        "        if int(team.SEED) == i:\n",
        "          info[f\"seed: {i}\"] = True\n",
        "    info[\"Win/Loss ratio\"] = team.W / (team.G - team.W)\n",
        "    info[\"2-point rate\"] = team[\"2P_O\"]\n",
        "    info[\"3-point rate\"] = team[\"3P_O\"]\n",
        "\n",
        "    return info"
      ]
    },
    {
      "cell_type": "code",
      "execution_count": 3,
      "metadata": {
        "id": "_39xLc08PxAM"
      },
      "outputs": [],
      "source": [
        "df = pd.read_csv(\"cbb.csv\")\n",
        "df = df.dropna()\n",
        "df['SEED'] = df['SEED'].astype(str).str.replace('$', '',regex=True).astype('float')\n",
        "df['3P_O'] = df['3P_O'].astype(str).str.replace('$', '',regex=True).astype('float')\n",
        "df['2P_O'] = df['2P_O'].astype(str).str.replace('$', '',regex=True).astype('float')\n",
        "df['W'] = df['W'].astype(str).str.replace('$', '',regex=True).astype('float')"
      ]
    },
    {
      "cell_type": "code",
      "execution_count": 4,
      "metadata": {
        "id": "wDph-FDZPxAN"
      },
      "outputs": [],
      "source": [
        "data = []\n",
        "for i in range(df.TEAM.size):\n",
        "    curr = df.iloc[i]\n",
        "    if curr.POSTSEASON != \"NA\" and curr.SEED != \"NA\":\n",
        "      oneWin = \"First round out\" if curr.POSTSEASON in [\"R68\", \"R64\"] else \"Past first round\"\n",
        "      data.append((team_features(curr), oneWin))"
      ]
    },
    {
      "cell_type": "code",
      "execution_count": 5,
      "metadata": {
        "id": "BysHJZTsPxAO"
      },
      "outputs": [],
      "source": [
        "def get_classifier(test_size, random_state):\n",
        "    train_set, test_set = train_test_split(data, test_size=test_size, random_state=random_state)\n",
        "    classifier = nltk.NaiveBayesClassifier.train(train_set)\n",
        "    return [train_set, test_set, classifier]"
      ]
    },
    {
      "cell_type": "markdown",
      "metadata": {
        "id": "6HAURFEAPxAO"
      },
      "source": [
        "### Naive Bayes classification"
      ]
    },
    {
      "cell_type": "code",
      "execution_count": null,
      "metadata": {
        "id": "UcMDRPZePxAP"
      },
      "outputs": [],
      "source": [
        "final_value  = [0 ,0 ,0, 0, 0]\n",
        "for num in range(1, 10):\n",
        "    test_size = num / 10.0\n",
        "    for random_state in range(1, 50):\n",
        "        train_set, test_set, classifier = get_classifier(test_size, random_state)\n",
        "        y_true = list(list(zip(*test_set))[1])\n",
        "        test_features = list(list(zip(*test_set))[0])\n",
        "        y_predict = [classifier.classify(features) for features in test_features]\n",
        "        (p,r,f,s) = precision_recall_fscore_support(y_true, y_predict)\n",
        "        if (p[0] > final_value[0]):\n",
        "            final_value[0] = p[0]\n",
        "            final_value[1] = test_size\n",
        "            final_value[2] = random_state\n",
        "            final_value[3] = (p,r,f,s)\n",
        "            final_value[4] = classifier"
      ]
    },
    {
      "cell_type": "code",
      "execution_count": null,
      "metadata": {
        "id": "fv69dRYQPxAQ"
      },
      "outputs": [],
      "source": [
        "print(\"best precision_recall_fscore_support value (p, r, f, s) with test size of \" + str(final_value[1]) + \" random state of \" + str(final_value[2]) + \" is \" + str(final_value[3]) )\n",
        "\n",
        "final_value[4].show_most_informative_features(15)"
      ]
    },
    {
      "cell_type": "markdown",
      "metadata": {
        "id": "08zDkVyXPxAQ"
      },
      "source": [
        "### Gaussian Naive Bayes classification"
      ]
    },
    {
      "cell_type": "code",
      "execution_count": null,
      "metadata": {
        "id": "HXthfTNTPxAR"
      },
      "outputs": [],
      "source": [
        "final_value1  = [0 ,0 ,0, 0]\n",
        "for num in range(1, 10):\n",
        "    test_size = num / 10.0\n",
        "    for random_state in range(1, 50):\n",
        "        train_set, test_set = train_test_split(data, test_size=0.2, random_state=36)\n",
        "\n",
        "        # Modify the feature matrix to have 2D array shape\n",
        "        X_train = [list(features.values()) for features, label in train_set]\n",
        "        y_train = [label for features, label in train_set]\n",
        "        X_test = [list(features.values()) for features, label in test_set]\n",
        "        y_test = [label for features, label in test_set]\n",
        "\n",
        "        clf = GaussianNB()\n",
        "        clf.fit(X_train, y_train)\n",
        "        y_pred = clf.predict(X_test)\n",
        "        p,r,f,s = precision_recall_fscore_support(y_test, y_pred)\n",
        "        if (p[0] > final_value1[0]):\n",
        "            final_value1[0] = p[0]\n",
        "            final_value1[1] = test_size\n",
        "            final_value1[2] = random_state\n",
        "            final_value1[3] = (p,r,f,s)"
      ]
    },
    {
      "cell_type": "code",
      "execution_count": null,
      "metadata": {
        "id": "XXvfFjDgPxAS"
      },
      "outputs": [],
      "source": [
        "print(\"best precision_recall_fscore_support value with test size of \" + str(final_value1[1]) + \" random state of \" + str(final_value1[2]) + \" is \" + str(final_value1[3]) )"
      ]
    },
    {
      "cell_type": "markdown",
      "metadata": {
        "id": "t_skQQywPxAS"
      },
      "source": [
        "### analysis techniques"
      ]
    },
    {
      "cell_type": "code",
      "execution_count": null,
      "metadata": {
        "id": "XxOPlXx8PxAT"
      },
      "outputs": [],
      "source": [
        "df['win/loss'] = df.W / (df.G - df.W)\n",
        "df1 = df[df['SEED'] == 16]\n",
        "top_10 = df1.head(10)\n",
        "top_10"
      ]
    },
    {
      "cell_type": "code",
      "execution_count": null,
      "metadata": {
        "id": "PJnxsfaqPxAT"
      },
      "outputs": [],
      "source": [
        "fig, ax = plt.subplots(2, 1, figsize=(15,15))\n",
        "\n",
        "ax = plt.subplot(2,1,1)\n",
        "sns.barplot(data=top_10, x=\"TEAM\", y=\"3P_O\")\n",
        "\n",
        "ax = plt.subplot(2,1,2)\n",
        "sns.barplot(data=top_10, x=\"TEAM\", y=\"win/loss\")"
      ]
    },
    {
      "cell_type": "code",
      "execution_count": null,
      "metadata": {
        "id": "Vo8M9YU3PxAU"
      },
      "outputs": [],
      "source": [
        "a = top_10.groupby('POSTSEASON').agg({'W':'count'}).reset_index()\n",
        "b = top_10.groupby('YEAR').agg({'W':'count'}).reset_index()\n",
        "\n",
        "fig, ax = plt.subplots(2, 1, figsize=(15,15))\n",
        "\n",
        "ax = plt.subplot(2,1,1)\n",
        "sns.barplot(data=a, x=\"POSTSEASON\", y=\"W\")\n",
        "\n",
        "ax = plt.subplot(2,1,2)\n",
        "sns.barplot(data=b, x=\"YEAR\", y=\"W\")"
      ]
    },
    {
      "cell_type": "code",
      "execution_count": null,
      "metadata": {
        "id": "8uV35Az-PxAV"
      },
      "outputs": [],
      "source": [
        "df2 = df[df['3P_O'] == 32.6]\n",
        "top_10_2 = df2.head(10)\n",
        "top_10_2"
      ]
    },
    {
      "cell_type": "code",
      "execution_count": null,
      "metadata": {
        "id": "gzk-yAhePxAV"
      },
      "outputs": [],
      "source": [
        "a1 = top_10_2.groupby('POSTSEASON').agg({'W':'count'}).reset_index()\n",
        "b1 = top_10_2.groupby('YEAR').agg({'W':'count'}).reset_index()\n",
        "\n",
        "fig, ax = plt.subplots(2, 1, figsize=(15,15))\n",
        "\n",
        "ax = plt.subplot(2,1,1)\n",
        "sns.barplot(data=a1, x=\"POSTSEASON\", y=\"W\")\n",
        "\n",
        "ax = plt.subplot(2,1,2)\n",
        "sns.barplot(data=b1, x=\"YEAR\", y=\"W\")"
      ]
    },
    {
      "cell_type": "code",
      "execution_count": null,
      "metadata": {
        "id": "j9Ky2vJFPxAW"
      },
      "outputs": [],
      "source": []
    }
  ],
  "metadata": {
    "kernelspec": {
      "display_name": "Python 3 (ipykernel)",
      "language": "python",
      "name": "python3"
    },
    "language_info": {
      "codemirror_mode": {
        "name": "ipython",
        "version": 3
      },
      "file_extension": ".py",
      "mimetype": "text/x-python",
      "name": "python",
      "nbconvert_exporter": "python",
      "pygments_lexer": "ipython3",
      "version": "3.9.12"
    },
    "vscode": {
      "interpreter": {
        "hash": "369f2c481f4da34e4445cda3fffd2e751bd1c4d706f27375911949ba6bb62e1c"
      }
    },
    "colab": {
      "provenance": []
    }
  },
  "nbformat": 4,
  "nbformat_minor": 0
}